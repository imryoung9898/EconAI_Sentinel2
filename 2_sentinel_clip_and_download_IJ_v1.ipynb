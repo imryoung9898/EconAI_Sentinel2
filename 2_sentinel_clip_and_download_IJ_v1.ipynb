{
  "nbformat": 4,
  "nbformat_minor": 0,
  "metadata": {
    "colab": {
      "name": "2_sentinel_clip_and_download_IJ_v1.ipynb",
      "provenance": [],
      "collapsed_sections": [],
      "toc_visible": true,
      "machine_shape": "hm",
      "authorship_tag": "ABX9TyNpov0csPWRVXPZluuSdAlP",
      "include_colab_link": true
    },
    "kernelspec": {
      "name": "python3",
      "display_name": "Python 3"
    },
    "language_info": {
      "name": "python"
    },
    "widgets": {
      "application/vnd.jupyter.widget-state+json": {
        "021e76e889554f289ba67ba241e8dd75": {
          "model_module": "@jupyter-widgets/controls",
          "model_name": "HBoxModel",
          "model_module_version": "1.5.0",
          "state": {
            "_view_name": "HBoxView",
            "_dom_classes": [],
            "_model_name": "HBoxModel",
            "_view_module": "@jupyter-widgets/controls",
            "_model_module_version": "1.5.0",
            "_view_count": null,
            "_view_module_version": "1.5.0",
            "box_style": "",
            "layout": "IPY_MODEL_382bde74b6204b7d821b93b2a5717563",
            "_model_module": "@jupyter-widgets/controls",
            "children": [
              "IPY_MODEL_06b96ffa958e4efa96426fe8ac2915d2",
              "IPY_MODEL_47c83fcff1b0469d9e62b10444d9ca6c",
              "IPY_MODEL_35acb31df0804c77bf31cf849898f8ca"
            ]
          }
        },
        "382bde74b6204b7d821b93b2a5717563": {
          "model_module": "@jupyter-widgets/base",
          "model_name": "LayoutModel",
          "model_module_version": "1.2.0",
          "state": {
            "_view_name": "LayoutView",
            "grid_template_rows": null,
            "right": null,
            "justify_content": null,
            "_view_module": "@jupyter-widgets/base",
            "overflow": null,
            "_model_module_version": "1.2.0",
            "_view_count": null,
            "flex_flow": null,
            "width": null,
            "min_width": null,
            "border": null,
            "align_items": null,
            "bottom": null,
            "_model_module": "@jupyter-widgets/base",
            "top": null,
            "grid_column": null,
            "overflow_y": null,
            "overflow_x": null,
            "grid_auto_flow": null,
            "grid_area": null,
            "grid_template_columns": null,
            "flex": null,
            "_model_name": "LayoutModel",
            "justify_items": null,
            "grid_row": null,
            "max_height": null,
            "align_content": null,
            "visibility": null,
            "align_self": null,
            "height": null,
            "min_height": null,
            "padding": null,
            "grid_auto_rows": null,
            "grid_gap": null,
            "max_width": null,
            "order": null,
            "_view_module_version": "1.2.0",
            "grid_template_areas": null,
            "object_position": null,
            "object_fit": null,
            "grid_auto_columns": null,
            "margin": null,
            "display": null,
            "left": null
          }
        },
        "06b96ffa958e4efa96426fe8ac2915d2": {
          "model_module": "@jupyter-widgets/controls",
          "model_name": "HTMLModel",
          "model_module_version": "1.5.0",
          "state": {
            "_view_name": "HTMLView",
            "style": "IPY_MODEL_91769241f6d14c42aa0c53a51548ab8e",
            "_dom_classes": [],
            "description": "",
            "_model_name": "HTMLModel",
            "placeholder": "​",
            "_view_module": "@jupyter-widgets/controls",
            "_model_module_version": "1.5.0",
            "value": "100%",
            "_view_count": null,
            "_view_module_version": "1.5.0",
            "description_tooltip": null,
            "_model_module": "@jupyter-widgets/controls",
            "layout": "IPY_MODEL_6ec4bdc79b174507bdf5b28b1b02c69e"
          }
        },
        "47c83fcff1b0469d9e62b10444d9ca6c": {
          "model_module": "@jupyter-widgets/controls",
          "model_name": "FloatProgressModel",
          "model_module_version": "1.5.0",
          "state": {
            "_view_name": "ProgressView",
            "style": "IPY_MODEL_e0862fe60945483a91403c44dcdbe1e1",
            "_dom_classes": [],
            "description": "",
            "_model_name": "FloatProgressModel",
            "bar_style": "success",
            "max": 10,
            "_view_module": "@jupyter-widgets/controls",
            "_model_module_version": "1.5.0",
            "value": 10,
            "_view_count": null,
            "_view_module_version": "1.5.0",
            "orientation": "horizontal",
            "min": 0,
            "description_tooltip": null,
            "_model_module": "@jupyter-widgets/controls",
            "layout": "IPY_MODEL_496a89057c6341a785f225a44c31d96e"
          }
        },
        "35acb31df0804c77bf31cf849898f8ca": {
          "model_module": "@jupyter-widgets/controls",
          "model_name": "HTMLModel",
          "model_module_version": "1.5.0",
          "state": {
            "_view_name": "HTMLView",
            "style": "IPY_MODEL_1283cf2900644c4ea1b8b3fd14c19b74",
            "_dom_classes": [],
            "description": "",
            "_model_name": "HTMLModel",
            "placeholder": "​",
            "_view_module": "@jupyter-widgets/controls",
            "_model_module_version": "1.5.0",
            "value": " 10/10 [00:15&lt;00:00,  1.56s/it]",
            "_view_count": null,
            "_view_module_version": "1.5.0",
            "description_tooltip": null,
            "_model_module": "@jupyter-widgets/controls",
            "layout": "IPY_MODEL_7071f00ce13a4caaaef9a06b63b59bdd"
          }
        },
        "91769241f6d14c42aa0c53a51548ab8e": {
          "model_module": "@jupyter-widgets/controls",
          "model_name": "DescriptionStyleModel",
          "model_module_version": "1.5.0",
          "state": {
            "_view_name": "StyleView",
            "_model_name": "DescriptionStyleModel",
            "description_width": "",
            "_view_module": "@jupyter-widgets/base",
            "_model_module_version": "1.5.0",
            "_view_count": null,
            "_view_module_version": "1.2.0",
            "_model_module": "@jupyter-widgets/controls"
          }
        },
        "6ec4bdc79b174507bdf5b28b1b02c69e": {
          "model_module": "@jupyter-widgets/base",
          "model_name": "LayoutModel",
          "model_module_version": "1.2.0",
          "state": {
            "_view_name": "LayoutView",
            "grid_template_rows": null,
            "right": null,
            "justify_content": null,
            "_view_module": "@jupyter-widgets/base",
            "overflow": null,
            "_model_module_version": "1.2.0",
            "_view_count": null,
            "flex_flow": null,
            "width": null,
            "min_width": null,
            "border": null,
            "align_items": null,
            "bottom": null,
            "_model_module": "@jupyter-widgets/base",
            "top": null,
            "grid_column": null,
            "overflow_y": null,
            "overflow_x": null,
            "grid_auto_flow": null,
            "grid_area": null,
            "grid_template_columns": null,
            "flex": null,
            "_model_name": "LayoutModel",
            "justify_items": null,
            "grid_row": null,
            "max_height": null,
            "align_content": null,
            "visibility": null,
            "align_self": null,
            "height": null,
            "min_height": null,
            "padding": null,
            "grid_auto_rows": null,
            "grid_gap": null,
            "max_width": null,
            "order": null,
            "_view_module_version": "1.2.0",
            "grid_template_areas": null,
            "object_position": null,
            "object_fit": null,
            "grid_auto_columns": null,
            "margin": null,
            "display": null,
            "left": null
          }
        },
        "e0862fe60945483a91403c44dcdbe1e1": {
          "model_module": "@jupyter-widgets/controls",
          "model_name": "ProgressStyleModel",
          "model_module_version": "1.5.0",
          "state": {
            "_view_name": "StyleView",
            "_model_name": "ProgressStyleModel",
            "description_width": "",
            "_view_module": "@jupyter-widgets/base",
            "_model_module_version": "1.5.0",
            "_view_count": null,
            "_view_module_version": "1.2.0",
            "bar_color": null,
            "_model_module": "@jupyter-widgets/controls"
          }
        },
        "496a89057c6341a785f225a44c31d96e": {
          "model_module": "@jupyter-widgets/base",
          "model_name": "LayoutModel",
          "model_module_version": "1.2.0",
          "state": {
            "_view_name": "LayoutView",
            "grid_template_rows": null,
            "right": null,
            "justify_content": null,
            "_view_module": "@jupyter-widgets/base",
            "overflow": null,
            "_model_module_version": "1.2.0",
            "_view_count": null,
            "flex_flow": null,
            "width": null,
            "min_width": null,
            "border": null,
            "align_items": null,
            "bottom": null,
            "_model_module": "@jupyter-widgets/base",
            "top": null,
            "grid_column": null,
            "overflow_y": null,
            "overflow_x": null,
            "grid_auto_flow": null,
            "grid_area": null,
            "grid_template_columns": null,
            "flex": null,
            "_model_name": "LayoutModel",
            "justify_items": null,
            "grid_row": null,
            "max_height": null,
            "align_content": null,
            "visibility": null,
            "align_self": null,
            "height": null,
            "min_height": null,
            "padding": null,
            "grid_auto_rows": null,
            "grid_gap": null,
            "max_width": null,
            "order": null,
            "_view_module_version": "1.2.0",
            "grid_template_areas": null,
            "object_position": null,
            "object_fit": null,
            "grid_auto_columns": null,
            "margin": null,
            "display": null,
            "left": null
          }
        },
        "1283cf2900644c4ea1b8b3fd14c19b74": {
          "model_module": "@jupyter-widgets/controls",
          "model_name": "DescriptionStyleModel",
          "model_module_version": "1.5.0",
          "state": {
            "_view_name": "StyleView",
            "_model_name": "DescriptionStyleModel",
            "description_width": "",
            "_view_module": "@jupyter-widgets/base",
            "_model_module_version": "1.5.0",
            "_view_count": null,
            "_view_module_version": "1.2.0",
            "_model_module": "@jupyter-widgets/controls"
          }
        },
        "7071f00ce13a4caaaef9a06b63b59bdd": {
          "model_module": "@jupyter-widgets/base",
          "model_name": "LayoutModel",
          "model_module_version": "1.2.0",
          "state": {
            "_view_name": "LayoutView",
            "grid_template_rows": null,
            "right": null,
            "justify_content": null,
            "_view_module": "@jupyter-widgets/base",
            "overflow": null,
            "_model_module_version": "1.2.0",
            "_view_count": null,
            "flex_flow": null,
            "width": null,
            "min_width": null,
            "border": null,
            "align_items": null,
            "bottom": null,
            "_model_module": "@jupyter-widgets/base",
            "top": null,
            "grid_column": null,
            "overflow_y": null,
            "overflow_x": null,
            "grid_auto_flow": null,
            "grid_area": null,
            "grid_template_columns": null,
            "flex": null,
            "_model_name": "LayoutModel",
            "justify_items": null,
            "grid_row": null,
            "max_height": null,
            "align_content": null,
            "visibility": null,
            "align_self": null,
            "height": null,
            "min_height": null,
            "padding": null,
            "grid_auto_rows": null,
            "grid_gap": null,
            "max_width": null,
            "order": null,
            "_view_module_version": "1.2.0",
            "grid_template_areas": null,
            "object_position": null,
            "object_fit": null,
            "grid_auto_columns": null,
            "margin": null,
            "display": null,
            "left": null
          }
        }
      }
    }
  },
  "cells": [
    {
      "cell_type": "markdown",
      "metadata": {
        "id": "view-in-github",
        "colab_type": "text"
      },
      "source": [
        "<a href=\"https://colab.research.google.com/github/imryoung9898/Sogang_EconAI_satellite_imagery/blob/main/2_sentinel_clip_and_download_IJ_v1.ipynb\" target=\"_parent\"><img src=\"https://colab.research.google.com/assets/colab-badge.svg\" alt=\"Open In Colab\"/></a>"
      ]
    },
    {
      "cell_type": "markdown",
      "source": [
        "This code does : <br>\n",
        "\n",
        "\n",
        "1.   Create cookie molds\n",
        "2.   Clip reprojected Sentinel2 images \n",
        "\n",
        "Last modified : Jan 17 2022 by Imryoung Jeong (neptune0118@gmail.com) <br>\n",
        "\n",
        "Recommend to work locally or switch runtime type to 'High-RAM'\n",
        "\n"
      ],
      "metadata": {
        "id": "ypK7veW6fq1Q"
      }
    },
    {
      "cell_type": "markdown",
      "source": [
        "# Set Up"
      ],
      "metadata": {
        "id": "pk4dw6j2gWnp"
      }
    },
    {
      "cell_type": "markdown",
      "source": [
        "## Install packages \n",
        "[See here](https://stackoverflow.com/questions/66811372/geopandas-and-google-colab-issue-spatial-indexes-require-either-rtree-or-pyg)"
      ],
      "metadata": {
        "id": "qNfw0u4LujYU"
      }
    },
    {
      "cell_type": "code",
      "source": [
        "!pip install pandas fiona shapely pyproj rtree"
      ],
      "metadata": {
        "colab": {
          "base_uri": "https://localhost:8080/"
        },
        "id": "sfWKJXyAuA-2",
        "outputId": "a3ba49a2-8f18-49a9-e8ed-4c52b0b69acb"
      },
      "execution_count": 2,
      "outputs": [
        {
          "output_type": "stream",
          "name": "stdout",
          "text": [
            "Requirement already satisfied: pandas in /usr/local/lib/python3.7/dist-packages (1.1.5)\n",
            "Collecting fiona\n",
            "  Downloading Fiona-1.8.20-cp37-cp37m-manylinux1_x86_64.whl (15.4 MB)\n",
            "\u001b[K     |████████████████████████████████| 15.4 MB 5.3 MB/s \n",
            "\u001b[?25hRequirement already satisfied: shapely in /usr/local/lib/python3.7/dist-packages (1.8.0)\n",
            "Collecting pyproj\n",
            "  Downloading pyproj-3.2.1-cp37-cp37m-manylinux2010_x86_64.whl (6.3 MB)\n",
            "\u001b[K     |████████████████████████████████| 6.3 MB 55.0 MB/s \n",
            "\u001b[?25hCollecting rtree\n",
            "  Downloading Rtree-0.9.7-cp37-cp37m-manylinux2010_x86_64.whl (994 kB)\n",
            "\u001b[K     |████████████████████████████████| 994 kB 54.5 MB/s \n",
            "\u001b[?25hRequirement already satisfied: python-dateutil>=2.7.3 in /usr/local/lib/python3.7/dist-packages (from pandas) (2.8.2)\n",
            "Requirement already satisfied: numpy>=1.15.4 in /usr/local/lib/python3.7/dist-packages (from pandas) (1.19.5)\n",
            "Requirement already satisfied: pytz>=2017.2 in /usr/local/lib/python3.7/dist-packages (from pandas) (2018.9)\n",
            "Requirement already satisfied: six>=1.5 in /usr/local/lib/python3.7/dist-packages (from python-dateutil>=2.7.3->pandas) (1.15.0)\n",
            "Collecting cligj>=0.5\n",
            "  Downloading cligj-0.7.2-py3-none-any.whl (7.1 kB)\n",
            "Requirement already satisfied: attrs>=17 in /usr/local/lib/python3.7/dist-packages (from fiona) (21.4.0)\n",
            "Requirement already satisfied: click>=4.0 in /usr/local/lib/python3.7/dist-packages (from fiona) (7.1.2)\n",
            "Requirement already satisfied: setuptools in /usr/local/lib/python3.7/dist-packages (from fiona) (57.4.0)\n",
            "Collecting munch\n",
            "  Downloading munch-2.5.0-py2.py3-none-any.whl (10 kB)\n",
            "Requirement already satisfied: certifi in /usr/local/lib/python3.7/dist-packages (from fiona) (2021.10.8)\n",
            "Collecting click-plugins>=1.0\n",
            "  Downloading click_plugins-1.1.1-py2.py3-none-any.whl (7.5 kB)\n",
            "Installing collected packages: munch, cligj, click-plugins, rtree, pyproj, fiona\n",
            "Successfully installed click-plugins-1.1.1 cligj-0.7.2 fiona-1.8.20 munch-2.5.0 pyproj-3.2.1 rtree-0.9.7\n"
          ]
        }
      ]
    },
    {
      "cell_type": "code",
      "source": [
        "!pip install geopandas"
      ],
      "metadata": {
        "colab": {
          "base_uri": "https://localhost:8080/"
        },
        "id": "_46Gw23cuBky",
        "outputId": "2e59e782-3091-48c7-99d9-344d49059235"
      },
      "execution_count": 3,
      "outputs": [
        {
          "output_type": "stream",
          "name": "stdout",
          "text": [
            "Collecting geopandas\n",
            "  Downloading geopandas-0.10.2-py2.py3-none-any.whl (1.0 MB)\n",
            "\u001b[?25l\r\u001b[K     |▎                               | 10 kB 27.8 MB/s eta 0:00:01\r\u001b[K     |▋                               | 20 kB 23.2 MB/s eta 0:00:01\r\u001b[K     |█                               | 30 kB 11.1 MB/s eta 0:00:01\r\u001b[K     |█▎                              | 40 kB 8.7 MB/s eta 0:00:01\r\u001b[K     |█▋                              | 51 kB 5.5 MB/s eta 0:00:01\r\u001b[K     |██                              | 61 kB 5.6 MB/s eta 0:00:01\r\u001b[K     |██▎                             | 71 kB 5.6 MB/s eta 0:00:01\r\u001b[K     |██▌                             | 81 kB 6.3 MB/s eta 0:00:01\r\u001b[K     |██▉                             | 92 kB 4.9 MB/s eta 0:00:01\r\u001b[K     |███▏                            | 102 kB 5.3 MB/s eta 0:00:01\r\u001b[K     |███▌                            | 112 kB 5.3 MB/s eta 0:00:01\r\u001b[K     |███▉                            | 122 kB 5.3 MB/s eta 0:00:01\r\u001b[K     |████▏                           | 133 kB 5.3 MB/s eta 0:00:01\r\u001b[K     |████▌                           | 143 kB 5.3 MB/s eta 0:00:01\r\u001b[K     |████▊                           | 153 kB 5.3 MB/s eta 0:00:01\r\u001b[K     |█████                           | 163 kB 5.3 MB/s eta 0:00:01\r\u001b[K     |█████▍                          | 174 kB 5.3 MB/s eta 0:00:01\r\u001b[K     |█████▊                          | 184 kB 5.3 MB/s eta 0:00:01\r\u001b[K     |██████                          | 194 kB 5.3 MB/s eta 0:00:01\r\u001b[K     |██████▍                         | 204 kB 5.3 MB/s eta 0:00:01\r\u001b[K     |██████▊                         | 215 kB 5.3 MB/s eta 0:00:01\r\u001b[K     |███████                         | 225 kB 5.3 MB/s eta 0:00:01\r\u001b[K     |███████▎                        | 235 kB 5.3 MB/s eta 0:00:01\r\u001b[K     |███████▋                        | 245 kB 5.3 MB/s eta 0:00:01\r\u001b[K     |████████                        | 256 kB 5.3 MB/s eta 0:00:01\r\u001b[K     |████████▎                       | 266 kB 5.3 MB/s eta 0:00:01\r\u001b[K     |████████▋                       | 276 kB 5.3 MB/s eta 0:00:01\r\u001b[K     |█████████                       | 286 kB 5.3 MB/s eta 0:00:01\r\u001b[K     |█████████▏                      | 296 kB 5.3 MB/s eta 0:00:01\r\u001b[K     |█████████▌                      | 307 kB 5.3 MB/s eta 0:00:01\r\u001b[K     |█████████▉                      | 317 kB 5.3 MB/s eta 0:00:01\r\u001b[K     |██████████▏                     | 327 kB 5.3 MB/s eta 0:00:01\r\u001b[K     |██████████▌                     | 337 kB 5.3 MB/s eta 0:00:01\r\u001b[K     |██████████▉                     | 348 kB 5.3 MB/s eta 0:00:01\r\u001b[K     |███████████▏                    | 358 kB 5.3 MB/s eta 0:00:01\r\u001b[K     |███████████▍                    | 368 kB 5.3 MB/s eta 0:00:01\r\u001b[K     |███████████▊                    | 378 kB 5.3 MB/s eta 0:00:01\r\u001b[K     |████████████                    | 389 kB 5.3 MB/s eta 0:00:01\r\u001b[K     |████████████▍                   | 399 kB 5.3 MB/s eta 0:00:01\r\u001b[K     |████████████▊                   | 409 kB 5.3 MB/s eta 0:00:01\r\u001b[K     |█████████████                   | 419 kB 5.3 MB/s eta 0:00:01\r\u001b[K     |█████████████▍                  | 430 kB 5.3 MB/s eta 0:00:01\r\u001b[K     |█████████████▋                  | 440 kB 5.3 MB/s eta 0:00:01\r\u001b[K     |██████████████                  | 450 kB 5.3 MB/s eta 0:00:01\r\u001b[K     |██████████████▎                 | 460 kB 5.3 MB/s eta 0:00:01\r\u001b[K     |██████████████▋                 | 471 kB 5.3 MB/s eta 0:00:01\r\u001b[K     |███████████████                 | 481 kB 5.3 MB/s eta 0:00:01\r\u001b[K     |███████████████▎                | 491 kB 5.3 MB/s eta 0:00:01\r\u001b[K     |███████████████▋                | 501 kB 5.3 MB/s eta 0:00:01\r\u001b[K     |███████████████▉                | 512 kB 5.3 MB/s eta 0:00:01\r\u001b[K     |████████████████▏               | 522 kB 5.3 MB/s eta 0:00:01\r\u001b[K     |████████████████▌               | 532 kB 5.3 MB/s eta 0:00:01\r\u001b[K     |████████████████▉               | 542 kB 5.3 MB/s eta 0:00:01\r\u001b[K     |█████████████████▏              | 552 kB 5.3 MB/s eta 0:00:01\r\u001b[K     |█████████████████▌              | 563 kB 5.3 MB/s eta 0:00:01\r\u001b[K     |█████████████████▉              | 573 kB 5.3 MB/s eta 0:00:01\r\u001b[K     |██████████████████              | 583 kB 5.3 MB/s eta 0:00:01\r\u001b[K     |██████████████████▍             | 593 kB 5.3 MB/s eta 0:00:01\r\u001b[K     |██████████████████▊             | 604 kB 5.3 MB/s eta 0:00:01\r\u001b[K     |███████████████████             | 614 kB 5.3 MB/s eta 0:00:01\r\u001b[K     |███████████████████▍            | 624 kB 5.3 MB/s eta 0:00:01\r\u001b[K     |███████████████████▊            | 634 kB 5.3 MB/s eta 0:00:01\r\u001b[K     |████████████████████            | 645 kB 5.3 MB/s eta 0:00:01\r\u001b[K     |████████████████████▎           | 655 kB 5.3 MB/s eta 0:00:01\r\u001b[K     |████████████████████▋           | 665 kB 5.3 MB/s eta 0:00:01\r\u001b[K     |█████████████████████           | 675 kB 5.3 MB/s eta 0:00:01\r\u001b[K     |█████████████████████▎          | 686 kB 5.3 MB/s eta 0:00:01\r\u001b[K     |█████████████████████▋          | 696 kB 5.3 MB/s eta 0:00:01\r\u001b[K     |██████████████████████          | 706 kB 5.3 MB/s eta 0:00:01\r\u001b[K     |██████████████████████▎         | 716 kB 5.3 MB/s eta 0:00:01\r\u001b[K     |██████████████████████▋         | 727 kB 5.3 MB/s eta 0:00:01\r\u001b[K     |██████████████████████▉         | 737 kB 5.3 MB/s eta 0:00:01\r\u001b[K     |███████████████████████▏        | 747 kB 5.3 MB/s eta 0:00:01\r\u001b[K     |███████████████████████▌        | 757 kB 5.3 MB/s eta 0:00:01\r\u001b[K     |███████████████████████▉        | 768 kB 5.3 MB/s eta 0:00:01\r\u001b[K     |████████████████████████▏       | 778 kB 5.3 MB/s eta 0:00:01\r\u001b[K     |████████████████████████▌       | 788 kB 5.3 MB/s eta 0:00:01\r\u001b[K     |████████████████████████▉       | 798 kB 5.3 MB/s eta 0:00:01\r\u001b[K     |█████████████████████████       | 808 kB 5.3 MB/s eta 0:00:01\r\u001b[K     |█████████████████████████▍      | 819 kB 5.3 MB/s eta 0:00:01\r\u001b[K     |█████████████████████████▊      | 829 kB 5.3 MB/s eta 0:00:01\r\u001b[K     |██████████████████████████      | 839 kB 5.3 MB/s eta 0:00:01\r\u001b[K     |██████████████████████████▍     | 849 kB 5.3 MB/s eta 0:00:01\r\u001b[K     |██████████████████████████▊     | 860 kB 5.3 MB/s eta 0:00:01\r\u001b[K     |███████████████████████████     | 870 kB 5.3 MB/s eta 0:00:01\r\u001b[K     |███████████████████████████▎    | 880 kB 5.3 MB/s eta 0:00:01\r\u001b[K     |███████████████████████████▋    | 890 kB 5.3 MB/s eta 0:00:01\r\u001b[K     |████████████████████████████    | 901 kB 5.3 MB/s eta 0:00:01\r\u001b[K     |████████████████████████████▎   | 911 kB 5.3 MB/s eta 0:00:01\r\u001b[K     |████████████████████████████▋   | 921 kB 5.3 MB/s eta 0:00:01\r\u001b[K     |█████████████████████████████   | 931 kB 5.3 MB/s eta 0:00:01\r\u001b[K     |█████████████████████████████▎  | 942 kB 5.3 MB/s eta 0:00:01\r\u001b[K     |█████████████████████████████▌  | 952 kB 5.3 MB/s eta 0:00:01\r\u001b[K     |█████████████████████████████▉  | 962 kB 5.3 MB/s eta 0:00:01\r\u001b[K     |██████████████████████████████▏ | 972 kB 5.3 MB/s eta 0:00:01\r\u001b[K     |██████████████████████████████▌ | 983 kB 5.3 MB/s eta 0:00:01\r\u001b[K     |██████████████████████████████▉ | 993 kB 5.3 MB/s eta 0:00:01\r\u001b[K     |███████████████████████████████▏| 1.0 MB 5.3 MB/s eta 0:00:01\r\u001b[K     |███████████████████████████████▌| 1.0 MB 5.3 MB/s eta 0:00:01\r\u001b[K     |███████████████████████████████▊| 1.0 MB 5.3 MB/s eta 0:00:01\r\u001b[K     |████████████████████████████████| 1.0 MB 5.3 MB/s \n",
            "\u001b[?25hRequirement already satisfied: shapely>=1.6 in /usr/local/lib/python3.7/dist-packages (from geopandas) (1.8.0)\n",
            "Requirement already satisfied: fiona>=1.8 in /usr/local/lib/python3.7/dist-packages (from geopandas) (1.8.20)\n",
            "Requirement already satisfied: pandas>=0.25.0 in /usr/local/lib/python3.7/dist-packages (from geopandas) (1.1.5)\n",
            "Requirement already satisfied: pyproj>=2.2.0 in /usr/local/lib/python3.7/dist-packages (from geopandas) (3.2.1)\n",
            "Requirement already satisfied: attrs>=17 in /usr/local/lib/python3.7/dist-packages (from fiona>=1.8->geopandas) (21.4.0)\n",
            "Requirement already satisfied: cligj>=0.5 in /usr/local/lib/python3.7/dist-packages (from fiona>=1.8->geopandas) (0.7.2)\n",
            "Requirement already satisfied: click>=4.0 in /usr/local/lib/python3.7/dist-packages (from fiona>=1.8->geopandas) (7.1.2)\n",
            "Requirement already satisfied: click-plugins>=1.0 in /usr/local/lib/python3.7/dist-packages (from fiona>=1.8->geopandas) (1.1.1)\n",
            "Requirement already satisfied: six>=1.7 in /usr/local/lib/python3.7/dist-packages (from fiona>=1.8->geopandas) (1.15.0)\n",
            "Requirement already satisfied: munch in /usr/local/lib/python3.7/dist-packages (from fiona>=1.8->geopandas) (2.5.0)\n",
            "Requirement already satisfied: setuptools in /usr/local/lib/python3.7/dist-packages (from fiona>=1.8->geopandas) (57.4.0)\n",
            "Requirement already satisfied: certifi in /usr/local/lib/python3.7/dist-packages (from fiona>=1.8->geopandas) (2021.10.8)\n",
            "Requirement already satisfied: python-dateutil>=2.7.3 in /usr/local/lib/python3.7/dist-packages (from pandas>=0.25.0->geopandas) (2.8.2)\n",
            "Requirement already satisfied: pytz>=2017.2 in /usr/local/lib/python3.7/dist-packages (from pandas>=0.25.0->geopandas) (2018.9)\n",
            "Requirement already satisfied: numpy>=1.15.4 in /usr/local/lib/python3.7/dist-packages (from pandas>=0.25.0->geopandas) (1.19.5)\n",
            "Installing collected packages: geopandas\n",
            "Successfully installed geopandas-0.10.2\n"
          ]
        }
      ]
    },
    {
      "cell_type": "code",
      "source": [
        "!pip install rioxarray"
      ],
      "metadata": {
        "colab": {
          "base_uri": "https://localhost:8080/"
        },
        "id": "APkWzMWBhLoA",
        "outputId": "4de4a8ca-aefc-49cc-c5bc-15f369e18ef4"
      },
      "execution_count": 4,
      "outputs": [
        {
          "output_type": "stream",
          "name": "stdout",
          "text": [
            "Collecting rioxarray\n",
            "  Downloading rioxarray-0.9.1.tar.gz (47 kB)\n",
            "\u001b[?25l\r\u001b[K     |███████                         | 10 kB 24.1 MB/s eta 0:00:01\r\u001b[K     |██████████████                  | 20 kB 11.4 MB/s eta 0:00:01\r\u001b[K     |████████████████████▉           | 30 kB 9.4 MB/s eta 0:00:01\r\u001b[K     |███████████████████████████▉    | 40 kB 8.6 MB/s eta 0:00:01\r\u001b[K     |████████████████████████████████| 47 kB 2.4 MB/s \n",
            "\u001b[?25h  Installing build dependencies ... \u001b[?25l\u001b[?25hdone\n",
            "  Getting requirements to build wheel ... \u001b[?25l\u001b[?25hdone\n",
            "    Preparing wheel metadata ... \u001b[?25l\u001b[?25hdone\n",
            "Requirement already satisfied: pyproj>=2.2 in /usr/local/lib/python3.7/dist-packages (from rioxarray) (3.2.1)\n",
            "Collecting rasterio\n",
            "  Downloading rasterio-1.2.10-cp37-cp37m-manylinux1_x86_64.whl (19.3 MB)\n",
            "\u001b[K     |████████████████████████████████| 19.3 MB 7.3 MB/s \n",
            "\u001b[?25hRequirement already satisfied: xarray>=0.17 in /usr/local/lib/python3.7/dist-packages (from rioxarray) (0.18.2)\n",
            "Requirement already satisfied: packaging in /usr/local/lib/python3.7/dist-packages (from rioxarray) (21.3)\n",
            "Requirement already satisfied: certifi in /usr/local/lib/python3.7/dist-packages (from pyproj>=2.2->rioxarray) (2021.10.8)\n",
            "Requirement already satisfied: setuptools>=40.4 in /usr/local/lib/python3.7/dist-packages (from xarray>=0.17->rioxarray) (57.4.0)\n",
            "Requirement already satisfied: pandas>=1.0 in /usr/local/lib/python3.7/dist-packages (from xarray>=0.17->rioxarray) (1.1.5)\n",
            "Requirement already satisfied: numpy>=1.17 in /usr/local/lib/python3.7/dist-packages (from xarray>=0.17->rioxarray) (1.19.5)\n",
            "Requirement already satisfied: python-dateutil>=2.7.3 in /usr/local/lib/python3.7/dist-packages (from pandas>=1.0->xarray>=0.17->rioxarray) (2.8.2)\n",
            "Requirement already satisfied: pytz>=2017.2 in /usr/local/lib/python3.7/dist-packages (from pandas>=1.0->xarray>=0.17->rioxarray) (2018.9)\n",
            "Requirement already satisfied: six>=1.5 in /usr/local/lib/python3.7/dist-packages (from python-dateutil>=2.7.3->pandas>=1.0->xarray>=0.17->rioxarray) (1.15.0)\n",
            "Requirement already satisfied: pyparsing!=3.0.5,>=2.0.2 in /usr/local/lib/python3.7/dist-packages (from packaging->rioxarray) (3.0.6)\n",
            "Collecting affine\n",
            "  Downloading affine-2.3.0-py2.py3-none-any.whl (15 kB)\n",
            "Requirement already satisfied: attrs in /usr/local/lib/python3.7/dist-packages (from rasterio->rioxarray) (21.4.0)\n",
            "Requirement already satisfied: click>=4.0 in /usr/local/lib/python3.7/dist-packages (from rasterio->rioxarray) (7.1.2)\n",
            "Requirement already satisfied: cligj>=0.5 in /usr/local/lib/python3.7/dist-packages (from rasterio->rioxarray) (0.7.2)\n",
            "Requirement already satisfied: click-plugins in /usr/local/lib/python3.7/dist-packages (from rasterio->rioxarray) (1.1.1)\n",
            "Collecting snuggs>=1.4.1\n",
            "  Downloading snuggs-1.4.7-py3-none-any.whl (5.4 kB)\n",
            "Building wheels for collected packages: rioxarray\n",
            "  Building wheel for rioxarray (PEP 517) ... \u001b[?25l\u001b[?25hdone\n",
            "  Created wheel for rioxarray: filename=rioxarray-0.9.1-py3-none-any.whl size=54611 sha256=f70ce6ce2e8646fda796d635fa243f94e6a653b2153b4cadba42083c0c372687\n",
            "  Stored in directory: /root/.cache/pip/wheels/07/da/9e/1cc57b2e7a29a206893db83e984a341e2e94378263e0798229\n",
            "Successfully built rioxarray\n",
            "Installing collected packages: snuggs, affine, rasterio, rioxarray\n",
            "Successfully installed affine-2.3.0 rasterio-1.2.10 rioxarray-0.9.1 snuggs-1.4.7\n"
          ]
        }
      ]
    },
    {
      "cell_type": "markdown",
      "source": [
        "## Import libraries"
      ],
      "metadata": {
        "id": "fhWP0R2mgbI1"
      }
    },
    {
      "cell_type": "code",
      "execution_count": 21,
      "metadata": {
        "id": "ArOCR22wfpNH"
      },
      "outputs": [],
      "source": [
        "import rioxarray as rxr\n",
        "import pandas as pd\n",
        "import rasterio as rio\n",
        "import geopandas as gpd\n",
        "import numpy as np\n",
        "import requests, zipfile, shutil, re, fiona, os, time, datetime\n",
        "import rtree\n",
        "\n",
        "from tqdm import trange, notebook\n",
        "from os import listdir\n",
        "from google.colab import files\n",
        "from urllib.parse import unquote\n",
        "from tqdm import tqdm\n",
        "from zipfile import ZipFile\n",
        "from os.path import basename"
      ]
    },
    {
      "cell_type": "markdown",
      "source": [
        "## Define directories & url"
      ],
      "metadata": {
        "id": "EyfOevD4hWln"
      }
    },
    {
      "cell_type": "code",
      "source": [
        "url_sentinel = \"https://www.dropbox.com/s/yztv072hnuhhay9/test_sentinel_reproj.zip?dl=0\"\n",
        "drop_path_sentinel = \"./Sentinel_reproj/\"\n",
        "\n",
        "url_tile = \"https://www.dropbox.com/s/t8x7tag28phhwnj/test_tiles.zip?dl=0\"\n",
        "drop_path_tile = \"./Cookie_mold/\""
      ],
      "metadata": {
        "id": "CIwk4MV6hV2v"
      },
      "execution_count": 6,
      "outputs": []
    },
    {
      "cell_type": "code",
      "source": [
        "dir_tile_index = drop_path_tile + \"test_tile_index.shp\"\n",
        "dir_pop_grid = drop_path_tile + \"population_grid_combined_2km.shp\""
      ],
      "metadata": {
        "id": "Xf4Y0UzCmyPL"
      },
      "execution_count": 7,
      "outputs": []
    },
    {
      "cell_type": "markdown",
      "source": [
        "# Functions"
      ],
      "metadata": {
        "id": "5k_uAlnilmjZ"
      }
    },
    {
      "cell_type": "code",
      "source": [
        "def download_dropbox(url, folder):\n",
        "  ## version 2.0, last modified by Hyunjoo Yang (hyang@sogang.ac.kr) on Jan. 14 2022\n",
        "  ## This function downloads dropbox shareable link to a local folder (tested for file downloading, but not for shared folder!)\n",
        "  \n",
        "  # url: dropbox shareable link for downloading\n",
        "  # folder: where to download\n",
        "  \n",
        "  headers = {'user-agent': 'Wget/1.16 (linux-gnu)'}\n",
        "  r = requests.get(url, stream=True, headers=headers)\n",
        "  \n",
        "  # convert dropbox shareable link (\"dl=0\" to \"dl=1\")\n",
        "  url = url.replace(\"?dl=0\", \"?dl=1\")\n",
        "\n",
        "  # check if the url returns valid status code (200)\n",
        "  if r.status_code == 200:\n",
        "    print('The url is valid.')\n",
        "\n",
        "    # grab filename from the url, using regular expressions (and replace space to \"_\" )\n",
        "    file_name = unquote(re.search(r'\\/([^\\/]+\\.([\\w]+))\\?dl=([01])$', url).group(1)).replace(\" \", \"_\")\n",
        "\n",
        "    folder_n_fname = os.path.join(folder, file_name)\n",
        "\n",
        "    # download\n",
        "    print('Begin downloading < {} >'.format(folder_n_fname))\n",
        "\n",
        "\n",
        "    # Total size in bytes.\n",
        "    total_size = int(r.headers.get('content-length', 0))\n",
        "    block_size = 1024  # 1 Kibibyte\n",
        "    t = tqdm(total=total_size, unit='B', unit_scale=True)\n",
        "    with open(file_name, 'wb') as f:\n",
        "      for data in r.iter_content(block_size):\n",
        "        t.update(len(data))\n",
        "        f.write(data)\n",
        "    t.close()\n",
        "\n",
        "    print('Finished downloading < {} >'.format(folder_n_fname))\n",
        "\n",
        "    # unzip if zip file\n",
        "    if file_name.endswith('.zip'):\n",
        "      print('Extracting zip file...')\n",
        "      with zipfile.ZipFile(file_name,\"r\") as zip_ref:\n",
        "        zip_ref.extractall(folder)\n",
        "    else:\n",
        "      if not os.path.exists(folder):\n",
        "        os.makedirs(folder)\n",
        "      shutil.move(file_name, folder_n_fname)\n",
        "\n",
        "    print('Done!')\n",
        "  else:\n",
        "    raise ValueError('Nothing to download: dropbox link is not valid. Check the URL link again')"
      ],
      "metadata": {
        "id": "4lGqnCv8lmKq"
      },
      "execution_count": 8,
      "outputs": []
    },
    {
      "cell_type": "code",
      "source": [
        "def make_cookie_mold(sentinel_id) :\n",
        "\n",
        "\n",
        "    #Create cookie molds\n",
        "    guide_tile = tile_index[tile_index['sentinel_id'] == sentinel_id].copy()\n",
        "    guide_tile['_merge'] = 1\n",
        "\n",
        "    mold_wide = gpd.sjoin(pop_grid, guide_tile, how = 'left', op = 'intersects')\n",
        "    mold_wide = mold_wide[mold_wide['_merge'] == 1].reset_index()\n",
        "    \n",
        "    ##Drop duplicated items\n",
        "    mold_wide.drop_duplicates(subset = ['geometry'], keep = 'first', inplace = True)\n",
        "    mold_wide.to_file(\"./Cookie_mold/mold_{}.shp\".format(sentinel_id),\n",
        "                      encoding = 'euc-kr', index = False)\n",
        "    \n",
        "    #Create csv that identifies which grid cells to drop\n",
        "    mold_narrow = gpd.sjoin(pop_grid, guide_tile, how = 'left', op = 'within')\n",
        "    mold_narrow = mold_narrow[mold_narrow['_merge'] == 1].reset_index()\n",
        "    mold_narrow = mold_narrow[['id', '_merge', 'geometry']]\n",
        "\n",
        "    csv = mold_wide.merge(mold_narrow, how = 'left', on = ['id'])\n",
        "    csv.drop(columns = ['index', 'index_right', '_merge_x'], inplace = True)\n",
        "    csv.rename(columns = {'_merge_y' : '_within'}, inplace = True)\n",
        "\n",
        "    if not os.path.exists(\"./csv/\") : os.makedirs(\"./csv/\")\n",
        "    csv.to_csv(\"./csv/Within_molds_{}.csv\".format(sentinel_id), encoding = 'euc-kr', index = False)\n"
      ],
      "metadata": {
        "id": "2HUvehfopjKc"
      },
      "execution_count": 9,
      "outputs": []
    },
    {
      "cell_type": "code",
      "source": [
        "def clip_sentinel_and_download(sentinel_id) :\n",
        "\n",
        "    error = 0\n",
        "    error_sentinel_id_list = []\n",
        "\n",
        "    #Open reprojected images and cookie molds\n",
        "    mold = fiona.open(\"./Cookie_mold/mold_{}.shp\".format(sentinel_id), encoding = 'euc-kr')\n",
        "    sentinel = rxr.open_rasterio(\"./Sentinel_reproj/{}.tif\".format(sentinel_id)).squeeze()\n",
        "\n",
        "    #Create output directory\n",
        "    dir_sentinel_clipped = \"./{}/\".format(sentinel_id)\n",
        "    if not os.path.exists(dir_sentinel_clipped) : os.makedirs(dir_sentinel_clipped)\n",
        "\n",
        "    #Clip\n",
        "    for i in notebook.tqdm(range(10)) :\n",
        "\n",
        "        mask = gpd.GeoDataFrame.from_features([mold[i]]) \n",
        "\n",
        "        try :\n",
        "            sentinel_clipped = sentinel.rio.clip(mask.geometry, drop = True, invert = False)\n",
        "            sentinel_clipped.rio.to_raster(dir_sentinel_clipped + str(mask.id[0]) + \".tif\")\n",
        "\n",
        "        except :\n",
        "            error += 1\n",
        "            error_sentinel_id_list.append(mask.id[0])\n",
        "            continue\n",
        "\n",
        "\n",
        "    if error != 0 : print(\"{} errors occured : {}\".format(error, error_sentinel_id_list))\n",
        "\n",
        "\n",
        "    #Compress\n",
        "    shutil.make_archive(\"./{}\".format(sentinel_id), 'zip', dir_sentinel_clipped)\n",
        "\n",
        "    #Download\n",
        "    files.download(\"./{}.zip\".format(sentinel_id))"
      ],
      "metadata": {
        "id": "uHhKLLB3vK7V"
      },
      "execution_count": 30,
      "outputs": []
    },
    {
      "cell_type": "markdown",
      "source": [
        "# Main "
      ],
      "metadata": {
        "id": "LpIgzPkTBxMh"
      }
    },
    {
      "cell_type": "markdown",
      "source": [
        "## Download zipfiles from dropbox"
      ],
      "metadata": {
        "id": "OCeWAwv2B38O"
      }
    },
    {
      "cell_type": "code",
      "source": [
        "download_dropbox(url_sentinel, drop_path_sentinel)\n",
        "download_dropbox(url_tile, drop_path_tile)"
      ],
      "metadata": {
        "colab": {
          "base_uri": "https://localhost:8080/"
        },
        "id": "7aeB1rdLlzxG",
        "outputId": "89d6bcf8-66f0-41d2-b737-3189d3557d5f"
      },
      "execution_count": 10,
      "outputs": [
        {
          "output_type": "stream",
          "name": "stdout",
          "text": [
            "The url is valid.\n",
            "Begin downloading < ./Sentinel_reproj/test_sentinel_reproj.zip >\n"
          ]
        },
        {
          "output_type": "stream",
          "name": "stderr",
          "text": [
            "100%|██████████| 744M/744M [00:12<00:00, 60.7MB/s]\n"
          ]
        },
        {
          "output_type": "stream",
          "name": "stdout",
          "text": [
            "Finished downloading < ./Sentinel_reproj/test_sentinel_reproj.zip >\n",
            "Extracting zip file...\n",
            "Done!\n",
            "The url is valid.\n",
            "Begin downloading < ./Cookie_mold/test_tiles.zip >\n"
          ]
        },
        {
          "output_type": "stream",
          "name": "stderr",
          "text": [
            "100%|██████████| 593k/593k [00:00<00:00, 5.96MB/s]"
          ]
        },
        {
          "output_type": "stream",
          "name": "stdout",
          "text": [
            "Finished downloading < ./Cookie_mold/test_tiles.zip >\n",
            "Extracting zip file...\n",
            "Done!\n"
          ]
        },
        {
          "output_type": "stream",
          "name": "stderr",
          "text": [
            "\n"
          ]
        }
      ]
    },
    {
      "cell_type": "markdown",
      "source": [
        "## Prepare Sentinel, tile index, population grids"
      ],
      "metadata": {
        "id": "pmodFSf7B6mb"
      }
    },
    {
      "cell_type": "code",
      "source": [
        "sentinel_id_list = [f.split(\".\")[0] for f in os.listdir(drop_path_sentinel)]\n",
        "\n",
        "sentinel_id_list"
      ],
      "metadata": {
        "colab": {
          "base_uri": "https://localhost:8080/"
        },
        "id": "3BN10h9rrrO1",
        "outputId": "4df85d6f-bdb3-4c47-9539-8940a9a2d324"
      },
      "execution_count": 11,
      "outputs": [
        {
          "output_type": "execute_result",
          "data": {
            "text/plain": [
              "['52SDH,2018-06-24,0_reproj', '52SBC,2018-05-23,0_reproj']"
            ]
          },
          "metadata": {},
          "execution_count": 11
        }
      ]
    },
    {
      "cell_type": "code",
      "source": [
        "tile_index = gpd.read_file(dir_tile_index) \n",
        "\n",
        "if tile_index.crs != 'epsg:4326':\n",
        "    tile_index = tile_index.to_crs('epsg:4326')\n",
        "    print('Reprojected to EPSG:4326')\n",
        "\n",
        "tile_index['sentinel_id'] = tile_index.location.str.split(\"/\").str[-1].str.split(\".\").str[0]\n",
        "\n",
        "tile_index.head()"
      ],
      "metadata": {
        "colab": {
          "base_uri": "https://localhost:8080/",
          "height": 226
        },
        "id": "WMRdVO_pmuo1",
        "outputId": "732096c9-4f51-465e-a68c-fe303637caae"
      },
      "execution_count": 12,
      "outputs": [
        {
          "output_type": "execute_result",
          "data": {
            "text/html": [
              "\n",
              "  <div id=\"df-2618411e-8d93-4bcb-87ba-c2d5ab4fdd9b\">\n",
              "    <div class=\"colab-df-container\">\n",
              "      <div>\n",
              "<style scoped>\n",
              "    .dataframe tbody tr th:only-of-type {\n",
              "        vertical-align: middle;\n",
              "    }\n",
              "\n",
              "    .dataframe tbody tr th {\n",
              "        vertical-align: top;\n",
              "    }\n",
              "\n",
              "    .dataframe thead th {\n",
              "        text-align: right;\n",
              "    }\n",
              "</style>\n",
              "<table border=\"1\" class=\"dataframe\">\n",
              "  <thead>\n",
              "    <tr style=\"text-align: right;\">\n",
              "      <th></th>\n",
              "      <th>location</th>\n",
              "      <th>geometry</th>\n",
              "      <th>sentinel_id</th>\n",
              "    </tr>\n",
              "  </thead>\n",
              "  <tbody>\n",
              "    <tr>\n",
              "      <th>0</th>\n",
              "      <td>/Users/imryoung/Downloads/dongyoon/Sentinel_re...</td>\n",
              "      <td>POLYGON ((125.74040 34.32421, 126.95619 34.324...</td>\n",
              "      <td>52SBC,2018-05-23,0_reproj</td>\n",
              "    </tr>\n",
              "    <tr>\n",
              "      <th>1</th>\n",
              "      <td>/Users/imryoung/Downloads/dongyoon/Sentinel_re...</td>\n",
              "      <td>POLYGON ((127.84725 38.84900, 129.11248 38.849...</td>\n",
              "      <td>52SDH,2018-06-24,0_reproj</td>\n",
              "    </tr>\n",
              "  </tbody>\n",
              "</table>\n",
              "</div>\n",
              "      <button class=\"colab-df-convert\" onclick=\"convertToInteractive('df-2618411e-8d93-4bcb-87ba-c2d5ab4fdd9b')\"\n",
              "              title=\"Convert this dataframe to an interactive table.\"\n",
              "              style=\"display:none;\">\n",
              "        \n",
              "  <svg xmlns=\"http://www.w3.org/2000/svg\" height=\"24px\"viewBox=\"0 0 24 24\"\n",
              "       width=\"24px\">\n",
              "    <path d=\"M0 0h24v24H0V0z\" fill=\"none\"/>\n",
              "    <path d=\"M18.56 5.44l.94 2.06.94-2.06 2.06-.94-2.06-.94-.94-2.06-.94 2.06-2.06.94zm-11 1L8.5 8.5l.94-2.06 2.06-.94-2.06-.94L8.5 2.5l-.94 2.06-2.06.94zm10 10l.94 2.06.94-2.06 2.06-.94-2.06-.94-.94-2.06-.94 2.06-2.06.94z\"/><path d=\"M17.41 7.96l-1.37-1.37c-.4-.4-.92-.59-1.43-.59-.52 0-1.04.2-1.43.59L10.3 9.45l-7.72 7.72c-.78.78-.78 2.05 0 2.83L4 21.41c.39.39.9.59 1.41.59.51 0 1.02-.2 1.41-.59l7.78-7.78 2.81-2.81c.8-.78.8-2.07 0-2.86zM5.41 20L4 18.59l7.72-7.72 1.47 1.35L5.41 20z\"/>\n",
              "  </svg>\n",
              "      </button>\n",
              "      \n",
              "  <style>\n",
              "    .colab-df-container {\n",
              "      display:flex;\n",
              "      flex-wrap:wrap;\n",
              "      gap: 12px;\n",
              "    }\n",
              "\n",
              "    .colab-df-convert {\n",
              "      background-color: #E8F0FE;\n",
              "      border: none;\n",
              "      border-radius: 50%;\n",
              "      cursor: pointer;\n",
              "      display: none;\n",
              "      fill: #1967D2;\n",
              "      height: 32px;\n",
              "      padding: 0 0 0 0;\n",
              "      width: 32px;\n",
              "    }\n",
              "\n",
              "    .colab-df-convert:hover {\n",
              "      background-color: #E2EBFA;\n",
              "      box-shadow: 0px 1px 2px rgba(60, 64, 67, 0.3), 0px 1px 3px 1px rgba(60, 64, 67, 0.15);\n",
              "      fill: #174EA6;\n",
              "    }\n",
              "\n",
              "    [theme=dark] .colab-df-convert {\n",
              "      background-color: #3B4455;\n",
              "      fill: #D2E3FC;\n",
              "    }\n",
              "\n",
              "    [theme=dark] .colab-df-convert:hover {\n",
              "      background-color: #434B5C;\n",
              "      box-shadow: 0px 1px 3px 1px rgba(0, 0, 0, 0.15);\n",
              "      filter: drop-shadow(0px 1px 2px rgba(0, 0, 0, 0.3));\n",
              "      fill: #FFFFFF;\n",
              "    }\n",
              "  </style>\n",
              "\n",
              "      <script>\n",
              "        const buttonEl =\n",
              "          document.querySelector('#df-2618411e-8d93-4bcb-87ba-c2d5ab4fdd9b button.colab-df-convert');\n",
              "        buttonEl.style.display =\n",
              "          google.colab.kernel.accessAllowed ? 'block' : 'none';\n",
              "\n",
              "        async function convertToInteractive(key) {\n",
              "          const element = document.querySelector('#df-2618411e-8d93-4bcb-87ba-c2d5ab4fdd9b');\n",
              "          const dataTable =\n",
              "            await google.colab.kernel.invokeFunction('convertToInteractive',\n",
              "                                                     [key], {});\n",
              "          if (!dataTable) return;\n",
              "\n",
              "          const docLinkHtml = 'Like what you see? Visit the ' +\n",
              "            '<a target=\"_blank\" href=https://colab.research.google.com/notebooks/data_table.ipynb>data table notebook</a>'\n",
              "            + ' to learn more about interactive tables.';\n",
              "          element.innerHTML = '';\n",
              "          dataTable['output_type'] = 'display_data';\n",
              "          await google.colab.output.renderOutput(dataTable, element);\n",
              "          const docLink = document.createElement('div');\n",
              "          docLink.innerHTML = docLinkHtml;\n",
              "          element.appendChild(docLink);\n",
              "        }\n",
              "      </script>\n",
              "    </div>\n",
              "  </div>\n",
              "  "
            ],
            "text/plain": [
              "                                            location  ...                sentinel_id\n",
              "0  /Users/imryoung/Downloads/dongyoon/Sentinel_re...  ...  52SBC,2018-05-23,0_reproj\n",
              "1  /Users/imryoung/Downloads/dongyoon/Sentinel_re...  ...  52SDH,2018-06-24,0_reproj\n",
              "\n",
              "[2 rows x 3 columns]"
            ]
          },
          "metadata": {},
          "execution_count": 12
        }
      ]
    },
    {
      "cell_type": "code",
      "source": [
        "pop_grid = gpd.read_file(dir_pop_grid)\n",
        "\n",
        "if pop_grid.crs != 'epsg:4326' :\n",
        "    pop_grid = pop_grid.to_crs('epsg:4326')\n",
        "    print('Reprojected to EPSG:4326')\n",
        "\n",
        "pop_grid.head()"
      ],
      "metadata": {
        "colab": {
          "base_uri": "https://localhost:8080/",
          "height": 224
        },
        "id": "uyKAjwplnq4u",
        "outputId": "e0b8ad59-a527-44c5-a3d9-ce4a3335d2e6"
      },
      "execution_count": 13,
      "outputs": [
        {
          "output_type": "stream",
          "name": "stdout",
          "text": [
            "Reprojected to EPSG:4326\n"
          ]
        },
        {
          "output_type": "execute_result",
          "data": {
            "text/html": [
              "\n",
              "  <div id=\"df-a0ed919b-eb59-49a7-9e4e-37c507c56361\">\n",
              "    <div class=\"colab-df-container\">\n",
              "      <div>\n",
              "<style scoped>\n",
              "    .dataframe tbody tr th:only-of-type {\n",
              "        vertical-align: middle;\n",
              "    }\n",
              "\n",
              "    .dataframe tbody tr th {\n",
              "        vertical-align: top;\n",
              "    }\n",
              "\n",
              "    .dataframe thead th {\n",
              "        text-align: right;\n",
              "    }\n",
              "</style>\n",
              "<table border=\"1\" class=\"dataframe\">\n",
              "  <thead>\n",
              "    <tr style=\"text-align: right;\">\n",
              "      <th></th>\n",
              "      <th>id</th>\n",
              "      <th>r2_val</th>\n",
              "      <th>geometry</th>\n",
              "    </tr>\n",
              "  </thead>\n",
              "  <tbody>\n",
              "    <tr>\n",
              "      <th>0</th>\n",
              "      <td>1</td>\n",
              "      <td>60</td>\n",
              "      <td>POLYGON ((124.60796 37.98245, 124.63071 37.983...</td>\n",
              "    </tr>\n",
              "    <tr>\n",
              "      <th>1</th>\n",
              "      <td>2</td>\n",
              "      <td>0</td>\n",
              "      <td>POLYGON ((124.60867 37.96445, 124.63141 37.965...</td>\n",
              "    </tr>\n",
              "    <tr>\n",
              "      <th>2</th>\n",
              "      <td>3</td>\n",
              "      <td>0</td>\n",
              "      <td>POLYGON ((124.60938 37.94645, 124.63211 37.947...</td>\n",
              "    </tr>\n",
              "    <tr>\n",
              "      <th>3</th>\n",
              "      <td>4</td>\n",
              "      <td>0</td>\n",
              "      <td>POLYGON ((124.63071 37.98301, 124.65345 37.983...</td>\n",
              "    </tr>\n",
              "    <tr>\n",
              "      <th>4</th>\n",
              "      <td>5</td>\n",
              "      <td>413</td>\n",
              "      <td>POLYGON ((124.63141 37.96501, 124.65415 37.965...</td>\n",
              "    </tr>\n",
              "  </tbody>\n",
              "</table>\n",
              "</div>\n",
              "      <button class=\"colab-df-convert\" onclick=\"convertToInteractive('df-a0ed919b-eb59-49a7-9e4e-37c507c56361')\"\n",
              "              title=\"Convert this dataframe to an interactive table.\"\n",
              "              style=\"display:none;\">\n",
              "        \n",
              "  <svg xmlns=\"http://www.w3.org/2000/svg\" height=\"24px\"viewBox=\"0 0 24 24\"\n",
              "       width=\"24px\">\n",
              "    <path d=\"M0 0h24v24H0V0z\" fill=\"none\"/>\n",
              "    <path d=\"M18.56 5.44l.94 2.06.94-2.06 2.06-.94-2.06-.94-.94-2.06-.94 2.06-2.06.94zm-11 1L8.5 8.5l.94-2.06 2.06-.94-2.06-.94L8.5 2.5l-.94 2.06-2.06.94zm10 10l.94 2.06.94-2.06 2.06-.94-2.06-.94-.94-2.06-.94 2.06-2.06.94z\"/><path d=\"M17.41 7.96l-1.37-1.37c-.4-.4-.92-.59-1.43-.59-.52 0-1.04.2-1.43.59L10.3 9.45l-7.72 7.72c-.78.78-.78 2.05 0 2.83L4 21.41c.39.39.9.59 1.41.59.51 0 1.02-.2 1.41-.59l7.78-7.78 2.81-2.81c.8-.78.8-2.07 0-2.86zM5.41 20L4 18.59l7.72-7.72 1.47 1.35L5.41 20z\"/>\n",
              "  </svg>\n",
              "      </button>\n",
              "      \n",
              "  <style>\n",
              "    .colab-df-container {\n",
              "      display:flex;\n",
              "      flex-wrap:wrap;\n",
              "      gap: 12px;\n",
              "    }\n",
              "\n",
              "    .colab-df-convert {\n",
              "      background-color: #E8F0FE;\n",
              "      border: none;\n",
              "      border-radius: 50%;\n",
              "      cursor: pointer;\n",
              "      display: none;\n",
              "      fill: #1967D2;\n",
              "      height: 32px;\n",
              "      padding: 0 0 0 0;\n",
              "      width: 32px;\n",
              "    }\n",
              "\n",
              "    .colab-df-convert:hover {\n",
              "      background-color: #E2EBFA;\n",
              "      box-shadow: 0px 1px 2px rgba(60, 64, 67, 0.3), 0px 1px 3px 1px rgba(60, 64, 67, 0.15);\n",
              "      fill: #174EA6;\n",
              "    }\n",
              "\n",
              "    [theme=dark] .colab-df-convert {\n",
              "      background-color: #3B4455;\n",
              "      fill: #D2E3FC;\n",
              "    }\n",
              "\n",
              "    [theme=dark] .colab-df-convert:hover {\n",
              "      background-color: #434B5C;\n",
              "      box-shadow: 0px 1px 3px 1px rgba(0, 0, 0, 0.15);\n",
              "      filter: drop-shadow(0px 1px 2px rgba(0, 0, 0, 0.3));\n",
              "      fill: #FFFFFF;\n",
              "    }\n",
              "  </style>\n",
              "\n",
              "      <script>\n",
              "        const buttonEl =\n",
              "          document.querySelector('#df-a0ed919b-eb59-49a7-9e4e-37c507c56361 button.colab-df-convert');\n",
              "        buttonEl.style.display =\n",
              "          google.colab.kernel.accessAllowed ? 'block' : 'none';\n",
              "\n",
              "        async function convertToInteractive(key) {\n",
              "          const element = document.querySelector('#df-a0ed919b-eb59-49a7-9e4e-37c507c56361');\n",
              "          const dataTable =\n",
              "            await google.colab.kernel.invokeFunction('convertToInteractive',\n",
              "                                                     [key], {});\n",
              "          if (!dataTable) return;\n",
              "\n",
              "          const docLinkHtml = 'Like what you see? Visit the ' +\n",
              "            '<a target=\"_blank\" href=https://colab.research.google.com/notebooks/data_table.ipynb>data table notebook</a>'\n",
              "            + ' to learn more about interactive tables.';\n",
              "          element.innerHTML = '';\n",
              "          dataTable['output_type'] = 'display_data';\n",
              "          await google.colab.output.renderOutput(dataTable, element);\n",
              "          const docLink = document.createElement('div');\n",
              "          docLink.innerHTML = docLinkHtml;\n",
              "          element.appendChild(docLink);\n",
              "        }\n",
              "      </script>\n",
              "    </div>\n",
              "  </div>\n",
              "  "
            ],
            "text/plain": [
              "   id r2_val                                           geometry\n",
              "0   1     60  POLYGON ((124.60796 37.98245, 124.63071 37.983...\n",
              "1   2      0  POLYGON ((124.60867 37.96445, 124.63141 37.965...\n",
              "2   3      0  POLYGON ((124.60938 37.94645, 124.63211 37.947...\n",
              "3   4      0  POLYGON ((124.63071 37.98301, 124.65345 37.983...\n",
              "4   5    413  POLYGON ((124.63141 37.96501, 124.65415 37.965..."
            ]
          },
          "metadata": {},
          "execution_count": 13
        }
      ]
    },
    {
      "cell_type": "markdown",
      "source": [
        "## Create cookie molds"
      ],
      "metadata": {
        "id": "b707kD4aCR7c"
      }
    },
    {
      "cell_type": "code",
      "source": [
        "for sentinel_id in sentinel_id_list :\n",
        "\n",
        "    make_cookie_mold(sentinel_id)"
      ],
      "metadata": {
        "colab": {
          "base_uri": "https://localhost:8080/"
        },
        "id": "tBBG10bUpd6G",
        "outputId": "e6b71054-de3b-4266-b3de-6c646f3badd7"
      },
      "execution_count": 14,
      "outputs": [
        {
          "output_type": "stream",
          "name": "stderr",
          "text": [
            "/usr/local/lib/python3.7/dist-packages/IPython/core/interactiveshell.py:2882: FutureWarning: The `op` parameter is deprecated and will be removed in a future release. Please use the `predicate` parameter instead.\n",
            "  exec(code_obj, self.user_global_ns, self.user_ns)\n",
            "/usr/local/lib/python3.7/dist-packages/ipykernel_launcher.py:14: UserWarning: Column names longer than 10 characters will be truncated when saved to ESRI Shapefile.\n",
            "  \n",
            "/usr/local/lib/python3.7/dist-packages/IPython/core/interactiveshell.py:2882: FutureWarning: The `op` parameter is deprecated and will be removed in a future release. Please use the `predicate` parameter instead.\n",
            "  exec(code_obj, self.user_global_ns, self.user_ns)\n",
            "/usr/local/lib/python3.7/dist-packages/IPython/core/interactiveshell.py:2882: FutureWarning: The `op` parameter is deprecated and will be removed in a future release. Please use the `predicate` parameter instead.\n",
            "  exec(code_obj, self.user_global_ns, self.user_ns)\n",
            "/usr/local/lib/python3.7/dist-packages/ipykernel_launcher.py:14: UserWarning: Column names longer than 10 characters will be truncated when saved to ESRI Shapefile.\n",
            "  \n",
            "/usr/local/lib/python3.7/dist-packages/IPython/core/interactiveshell.py:2882: FutureWarning: The `op` parameter is deprecated and will be removed in a future release. Please use the `predicate` parameter instead.\n",
            "  exec(code_obj, self.user_global_ns, self.user_ns)\n"
          ]
        }
      ]
    },
    {
      "cell_type": "markdown",
      "source": [
        "## Clip and download"
      ],
      "metadata": {
        "id": "T_JvDHzsCUFV"
      }
    },
    {
      "cell_type": "code",
      "source": [
        "clip_sentinel_and_download(sentinel_id)"
      ],
      "metadata": {
        "colab": {
          "base_uri": "https://localhost:8080/",
          "height": 49,
          "referenced_widgets": [
            "021e76e889554f289ba67ba241e8dd75",
            "382bde74b6204b7d821b93b2a5717563",
            "06b96ffa958e4efa96426fe8ac2915d2",
            "47c83fcff1b0469d9e62b10444d9ca6c",
            "35acb31df0804c77bf31cf849898f8ca",
            "91769241f6d14c42aa0c53a51548ab8e",
            "6ec4bdc79b174507bdf5b28b1b02c69e",
            "e0862fe60945483a91403c44dcdbe1e1",
            "496a89057c6341a785f225a44c31d96e",
            "1283cf2900644c4ea1b8b3fd14c19b74",
            "7071f00ce13a4caaaef9a06b63b59bdd"
          ]
        },
        "id": "Mni-YkAF0ALO",
        "outputId": "7297ae69-71e4-41a8-faab-807195a79e95"
      },
      "execution_count": 31,
      "outputs": [
        {
          "output_type": "display_data",
          "data": {
            "application/vnd.jupyter.widget-view+json": {
              "model_id": "021e76e889554f289ba67ba241e8dd75",
              "version_minor": 0,
              "version_major": 2
            },
            "text/plain": [
              "  0%|          | 0/10 [00:00<?, ?it/s]"
            ]
          },
          "metadata": {}
        },
        {
          "output_type": "display_data",
          "data": {
            "application/javascript": [
              "\n",
              "    async function download(id, filename, size) {\n",
              "      if (!google.colab.kernel.accessAllowed) {\n",
              "        return;\n",
              "      }\n",
              "      const div = document.createElement('div');\n",
              "      const label = document.createElement('label');\n",
              "      label.textContent = `Downloading \"${filename}\": `;\n",
              "      div.appendChild(label);\n",
              "      const progress = document.createElement('progress');\n",
              "      progress.max = size;\n",
              "      div.appendChild(progress);\n",
              "      document.body.appendChild(div);\n",
              "\n",
              "      const buffers = [];\n",
              "      let downloaded = 0;\n",
              "\n",
              "      const channel = await google.colab.kernel.comms.open(id);\n",
              "      // Send a message to notify the kernel that we're ready.\n",
              "      channel.send({})\n",
              "\n",
              "      for await (const message of channel.messages) {\n",
              "        // Send a message to notify the kernel that we're ready.\n",
              "        channel.send({})\n",
              "        if (message.buffers) {\n",
              "          for (const buffer of message.buffers) {\n",
              "            buffers.push(buffer);\n",
              "            downloaded += buffer.byteLength;\n",
              "            progress.value = downloaded;\n",
              "          }\n",
              "        }\n",
              "      }\n",
              "      const blob = new Blob(buffers, {type: 'application/binary'});\n",
              "      const a = document.createElement('a');\n",
              "      a.href = window.URL.createObjectURL(blob);\n",
              "      a.download = filename;\n",
              "      div.appendChild(a);\n",
              "      a.click();\n",
              "      div.remove();\n",
              "    }\n",
              "  "
            ],
            "text/plain": [
              "<IPython.core.display.Javascript object>"
            ]
          },
          "metadata": {}
        },
        {
          "output_type": "display_data",
          "data": {
            "application/javascript": [
              "download(\"download_021d8a48-dd72-43c5-acba-e65340ab4a02\", \"52SDH,2018-06-24,0_reproj.zip\", 17613)"
            ],
            "text/plain": [
              "<IPython.core.display.Javascript object>"
            ]
          },
          "metadata": {}
        }
      ]
    }
  ]
}