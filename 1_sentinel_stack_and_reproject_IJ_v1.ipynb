{
  "nbformat": 4,
  "nbformat_minor": 0,
  "metadata": {
    "colab": {
      "name": "1_sentinel_stack_and_reproject_IJ_v1.ipynb",
      "provenance": [],
      "collapsed_sections": [],
      "authorship_tag": "ABX9TyMvZr/EuJu2yKIh+QadFKyo",
      "include_colab_link": true
    },
    "kernelspec": {
      "name": "python3",
      "display_name": "Python 3"
    },
    "language_info": {
      "name": "python"
    }
  },
  "cells": [
    {
      "cell_type": "markdown",
      "metadata": {
        "id": "view-in-github",
        "colab_type": "text"
      },
      "source": [
        "<a href=\"https://colab.research.google.com/github/imryoung9898/EconAI_Sentinel2/blob/main/1_sentinel_stack_and_reproject_IJ_v1.ipynb\" target=\"_parent\"><img src=\"https://colab.research.google.com/assets/colab-badge.svg\" alt=\"Open In Colab\"/></a>"
      ]
    },
    {
      "cell_type": "markdown",
      "source": [
        "This code does : <br>\n",
        "1.   Stack three (R,G,B) bands\n",
        "2.   Reproject and download\n",
        "\n",
        "\n",
        "Last modified : Jan 14 2022 by Imryoung Jeong (neptune0118@gmail.com) <br>\n",
        "\n",
        "Recommend to use Google Chrome to download zipfile automatically"
      ],
      "metadata": {
        "id": "AhyshJQkRE4P"
      }
    },
    {
      "cell_type": "markdown",
      "source": [
        "# Set Up"
      ],
      "metadata": {
        "id": "uW5A068QPNSB"
      }
    },
    {
      "cell_type": "code",
      "source": [
        "# pip install rioxarray\n",
        "# pip install fiona\n",
        "# pip install rasterio"
      ],
      "metadata": {
        "id": "pZKhA15qXg8C"
      },
      "execution_count": null,
      "outputs": []
    },
    {
      "cell_type": "markdown",
      "source": [
        "### Import libraries"
      ],
      "metadata": {
        "id": "2PKcnAQAhuvh"
      }
    },
    {
      "cell_type": "code",
      "source": [
        "import rioxarray as rxr\n",
        "import rasterio as rio\n",
        "import fiona, os, time, datetime\n",
        "import requests, zipfile, shutil, re\n",
        "\n",
        "from os import listdir\n",
        "from tqdm import trange, notebook\n",
        "from rasterio.crs import CRS\n",
        "from google.colab import files\n",
        "from urllib.parse import unquote \n",
        "from tqdm import tqdm"
      ],
      "metadata": {
        "id": "p1KUXlRYPnvC"
      },
      "execution_count": null,
      "outputs": []
    },
    {
      "cell_type": "markdown",
      "source": [
        "### Define directories & url"
      ],
      "metadata": {
        "id": "2GkRitRBhn4Q"
      }
    },
    {
      "cell_type": "code",
      "source": [
        "url = 'https://www.dropbox.com/s/529mhfu07sp36u4/test_sentinel.zip?dl=0'\n",
        "#drop_name = 'sentinel.zip'\n",
        "drop_path = './Sentinel_image/'"
      ],
      "metadata": {
        "id": "q9C0ClpNhX40"
      },
      "execution_count": null,
      "outputs": []
    },
    {
      "cell_type": "markdown",
      "source": [
        "# Functions"
      ],
      "metadata": {
        "id": "eJfpTYvJTPBG"
      }
    },
    {
      "cell_type": "code",
      "source": [
        "def download_dropbox(url, folder):\n",
        "  ## version 2.0, last modified by Hyunjoo Yang (hyang@sogang.ac.kr) on Jan. 14 2022\n",
        "  ## This function downloads dropbox shareable link to a local folder (tested for file downloading, but not for shared folder!)\n",
        "  \n",
        "  # url: dropbox shareable link for downloading\n",
        "  # folder: where to download\n",
        "  \n",
        "  headers = {'user-agent': 'Wget/1.16 (linux-gnu)'}\n",
        "  r = requests.get(url, stream=True, headers=headers)\n",
        "  \n",
        "  # convert dropbox shareable link (\"dl=0\" to \"dl=1\")\n",
        "  url = url.replace(\"?dl=0\", \"?dl=1\")\n",
        "\n",
        "  # check if the url returns valid status code (200)\n",
        "  if r.status_code == 200:\n",
        "    print('The url is valid.')\n",
        "\n",
        "    # grab filename from the url, using regular expressions (and replace space to \"_\" )\n",
        "    file_name = unquote(re.search(r'\\/([^\\/]+\\.([\\w]+))\\?dl=([01])$', url).group(1)).replace(\" \", \"_\")\n",
        "\n",
        "    folder_n_fname = os.path.join(folder, file_name)\n",
        "\n",
        "    # download\n",
        "    print('Begin downloading < {} >'.format(folder_n_fname))\n",
        "\n",
        "\n",
        "    # Total size in bytes.\n",
        "    total_size = int(r.headers.get('content-length', 0))\n",
        "    block_size = 1024  # 1 Kibibyte\n",
        "    t = tqdm(total=total_size, unit='B', unit_scale=True)\n",
        "    with open(file_name, 'wb') as f:\n",
        "      for data in r.iter_content(block_size):\n",
        "        t.update(len(data))\n",
        "        f.write(data)\n",
        "    t.close()\n",
        "\n",
        "    print('Finished downloading < {} >'.format(folder_n_fname))\n",
        "\n",
        "    # unzip if zip file\n",
        "    if file_name.endswith('.zip'):\n",
        "      print('Extracting zip file...')\n",
        "      with zipfile.ZipFile(file_name,\"r\") as zip_ref:\n",
        "        zip_ref.extractall(folder)\n",
        "    else:\n",
        "      if not os.path.exists(folder):\n",
        "        os.makedirs(folder)\n",
        "      shutil.move(file_name, folder_n_fname)\n",
        "\n",
        "    print('Done!')\n",
        "  else:\n",
        "    raise ValueError('Nothing to download: dropbox link is not valid. Check the URL link again')"
      ],
      "metadata": {
        "id": "nirLeM4eWFia"
      },
      "execution_count": null,
      "outputs": []
    },
    {
      "cell_type": "code",
      "source": [
        "def stack_sentinel_bands(img_nm) :\n",
        "    # version 1.0\n",
        "    ## code to stack three RGB bands \n",
        "    ### img_nm: name of satellite imageries (e.g. 52SBC,2018-05-23,0)\n",
        "\n",
        "    bands = [drop_path + \"{}/R10m/B04.jp2\".format(img_nm), #R\n",
        "             drop_path + \"{}/R10m/B03.jp2\".format(img_nm), #G\n",
        "             drop_path + \"{}/R10m/B02.jp2\".format(img_nm)] #B\n",
        "\n",
        "    # Read metadata of first file\n",
        "    with rio.open(bands[0]) as src0: meta = src0.meta\n",
        "\n",
        "    # Update meta to reflect the number of layers\n",
        "    meta.update(count = len(bands))\n",
        "\n",
        "    # Read each layer and write it to stack\n",
        "    with rio.open(drop_path + \"{}.tif\".format(img_nm), 'w', **meta) as dst:\n",
        "        for id, layer in enumerate(bands, start=1):\n",
        "            with rio.open(layer) as src1:\n",
        "                dst.write_band(id, src1.read(1))\n",
        "\n",
        "\n",
        "def sentinel_reprojector(img_nm) :\n",
        "    # version 1.3, last modified by Imryoung Jeong (neptune0118@gmail.com) on Jan 14 2022\n",
        "    ## This function reprojects raster to EPSG4326\n",
        "    \n",
        "    # Create a rasterio crs object for wgs 84 crs - lat / lon\n",
        "    crs_wgs84 = CRS.from_string('EPSG:4326')\n",
        "    \n",
        "    original = rxr.open_rasterio(drop_path + \"{}.tif\".format(img_nm)).squeeze()\n",
        "    original_reproj = original.rio.reproject(crs_wgs84)\n",
        "\n",
        "    if not os.path.exists(\"./Sentinel_reproj/\") : os.makedirs(\"./Sentinel_reproj/\")\n",
        "    \n",
        "    out_dir = \"./Sentinel_reproj/{}_EPSG4326.tif\".format(img_nm)\n",
        "    original_reproj.rio.to_raster(out_dir)\n",
        "\n",
        "    # Download (very slow)\n",
        "    files.download(out_dir)"
      ],
      "metadata": {
        "id": "PVhboecZTRjJ"
      },
      "execution_count": null,
      "outputs": []
    },
    {
      "cell_type": "markdown",
      "source": [
        "# Loop over..."
      ],
      "metadata": {
        "id": "Udrcl3cMTgwk"
      }
    },
    {
      "cell_type": "markdown",
      "source": [
        "### Download and unzip Sentinel zipfile"
      ],
      "metadata": {
        "id": "BEAfVfzOZIr_"
      }
    },
    {
      "cell_type": "code",
      "source": [
        "download_dropbox(url,drop_path)"
      ],
      "metadata": {
        "id": "YPKUc6PaXD5e",
        "colab": {
          "base_uri": "https://localhost:8080/"
        },
        "outputId": "9e62e437-59d3-4f90-d2d3-f4d0d3bcecfa"
      },
      "execution_count": null,
      "outputs": [
        {
          "output_type": "stream",
          "name": "stdout",
          "text": [
            "The url is valid.\n",
            "Begin downloading < ./Sentinel_image/test_sentinel.zip >\n"
          ]
        },
        {
          "output_type": "stream",
          "name": "stderr",
          "text": [
            "100%|██████████| 559M/559M [00:13<00:00, 41.6MB/s]\n"
          ]
        },
        {
          "output_type": "stream",
          "name": "stdout",
          "text": [
            "Finished downloading < ./Sentinel_image/test_sentinel.zip >\n",
            "Extracting zip file...\n",
            "Done!\n"
          ]
        }
      ]
    },
    {
      "cell_type": "code",
      "source": [
        "img_nm_list = [f for f in os.listdir(drop_path) if f.startswith(\"5\")]\n",
        "print(img_nm_list)"
      ],
      "metadata": {
        "id": "92souNPnTk9f",
        "colab": {
          "base_uri": "https://localhost:8080/"
        },
        "outputId": "a185558f-a410-4ac5-ea83-aea83cfbafcb"
      },
      "execution_count": null,
      "outputs": [
        {
          "output_type": "stream",
          "name": "stdout",
          "text": [
            "['52SDH,2018-06-24,0', '52SBC,2018-05-23,0']\n"
          ]
        }
      ]
    },
    {
      "cell_type": "code",
      "source": [
        "for img_nm in notebook.tqdm(img_nm_list) :\n",
        "\n",
        "    stack_sentinel_bands(img_nm)\n",
        "\n",
        "    sentinel_reprojector(img_nm)"
      ],
      "metadata": {
        "id": "KwxQ1gaUToR3"
      },
      "execution_count": null,
      "outputs": []
    }
  ]
}